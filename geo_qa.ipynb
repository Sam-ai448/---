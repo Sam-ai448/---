{
 "cells": [
  {
   "cell_type": "code",
   "execution_count": 1,
   "id": "462ff9ef",
   "metadata": {},
   "outputs": [],
   "source": [
    "from tkinter import *\n",
    "import time\n",
    "import tkinter.font as fnt\n",
    "import numpy as np\n",
    "import pandas as pd\n",
    "import random\n",
    "from PIL import ImageTk, Image"
   ]
  },
  {
   "cell_type": "code",
   "execution_count": 9,
   "id": "b12428ce",
   "metadata": {},
   "outputs": [],
   "source": [
    "win = Tk()\n",
    "win.geometry(\"1024x768\")\n",
    "win.resizable(width=True, height=True)\n",
    "win.title(\"各國地理問答-重製版1.0\")\n",
    "myFont = fnt.Font(family='新細明體', size=20, weight='bold')"
   ]
  },
  {
   "cell_type": "code",
   "execution_count": 10,
   "id": "7ec77d69",
   "metadata": {
    "scrolled": true
   },
   "outputs": [],
   "source": [
    "questions=pd.read_csv(\"questions_2.csv\",encoding=\"utf-8-sig\")\n",
    "qzQueue=list(range(len(questions)))\n",
    "random.shuffle(qzQueue)\n",
    "numInQue=0"
   ]
  },
  {
   "cell_type": "code",
   "execution_count": 11,
   "id": "9f1b8b44",
   "metadata": {},
   "outputs": [],
   "source": [
    "#初始化總和計算\n",
    "totalCount=len(questions)\n",
    "correctCount=0"
   ]
  },
  {
   "cell_type": "code",
   "execution_count": 12,
   "id": "1ca4ee83",
   "metadata": {},
   "outputs": [],
   "source": [
    "def Ans_1():\n",
    "    global ans,numInQue,correctCount\n",
    "    numInQue+=1\n",
    "    if ans == 1:\n",
    "        correctCount +=1\n",
    "    game_main()\n",
    "def Ans_2():\n",
    "    global ans,numInQue,correctCount\n",
    "    numInQue += 1\n",
    "    if ans == 2:\n",
    "        correctCount +=1\n",
    "    game_main()\n",
    "def Ans_3():\n",
    "    global ans,numInQue,correctCount\n",
    "    numInQue += 1\n",
    "    if ans == 3:\n",
    "        correctCount +=1\n",
    "    game_main()\n",
    "def Ans_4():\n",
    "    global ans,numInQue,correctCount\n",
    "    numInQue += 1\n",
    "    if ans == 4:\n",
    "        correctCount +=1\n",
    "    game_main()"
   ]
  },
  {
   "cell_type": "code",
   "execution_count": 13,
   "id": "3d52eaaa",
   "metadata": {},
   "outputs": [],
   "source": [
    "def game_main():\n",
    "    global ans,qz_img,Lbl,panel,Btn_1,Btn_2,Btn_3,Btn_4,numInQue,totalCount\n",
    "    #若題目還沒做完的情況\n",
    "    if numInQue<totalCount:\n",
    "        #亂數選取題目\n",
    "        qz_number=qzQueue[numInQue]\n",
    "        #題目答案\n",
    "        ans = questions[\"correct\"][qz_number]\n",
    "        #題目圖片\n",
    "        #qz_img = Image.open(questions[\"picture\"][qz_number])\n",
    "        #qz_img = qz_img.resize((50,50), Image.ANTIALIAS)\n",
    "        qz_img = PhotoImage(file=questions[\"picture\"][qz_number])\n",
    "        WW,HH=qz_img.width(),qz_img.height()\n",
    "        qz_img=qz_img.subsample(x=3, y=3)\n",
    "        #print(qz_img.width())\n",
    "        #print(qz_img.height())\n",
    "        #抓取相關文字進按鈕\n",
    "        Lbl = Label(win,text=questions[\"question\"][qz_number], font=myFont, width=40, height=10)\n",
    "        Lbl.grid(row=0, column=0, columnspan=10)\n",
    "        panel = Label(win, image=qz_img,  width=200, height=300)\n",
    "        panel.grid(row=1, column=0)\n",
    "        Btn_1 = Button(win,text=\"1.\"+questions[\"answer1\"][qz_number], font=myFont, width=52, height=2, fg=\"blue\", command=lambda: Ans_1())\n",
    "        Btn_1.grid(row=2, column=0)\n",
    "        Btn_2 = Button(win,text=\"2.\"+questions[\"answer2\"][qz_number], font=myFont, width=52, height=2, fg=\"blue\", command=lambda: Ans_2())\n",
    "        Btn_2.grid(row=2, column=2)\n",
    "        Btn_3= Button(win,text=\"3.\"+questions[\"answer3\"][qz_number], font=myFont, width=52, height=2, fg=\"blue\", command=lambda: Ans_3())\n",
    "        Btn_3.grid(row=3, column=0)\n",
    "        Btn_4 = Button(win,text=\"4.\"+questions[\"answer4\"][qz_number], font=myFont, width=52, height=2, fg=\"blue\", command=lambda: Ans_4())\n",
    "        Btn_4.grid(row=3, column=2)\n",
    "        win.mainloop()\n",
    "    else:\n",
    "        # 若題目已經做完的情況\n",
    "        Lbl_title=Label(text=\"各國地理問答\",font=myFont,width=50, height=2)\n",
    "        Lbl_title.grid(row=0, column=0, columnspan=4)\n",
    "        qz_number=0\n",
    "        Btn_startgame=Button(text=\"離開\",font=myFont, width=5, height=2, fg=\"black\", command=lambda: game_main())\n",
    "        Btn_startgame.grid(row=4, column=0)\n",
    "        Btn_quitgame=Button(text=\"回到開始畫面\",font=myFont, width=5, height=2, fg=\"black\", command=lambda: win.destroy())\n",
    "        Btn_quitgame.grid(row=4, column=2)\n",
    "        win.mainloop()\n",
    "        \n",
    "        Lbl_title.grid(row=0, column=0, columnspan=4)\n",
    "        \n",
    "        Btn_startgame = Button(text=\"進入\", font=myFont, width=5, height=2, fg=\"black\", command=lambda: game_main())\n",
    "        Btn_startgame.grid(row=4, column=0)\n",
    "        Btn_quitgame = Button(text=\"離開\", font=myFont, width=5, height=2, fg=\"black\", command=lambda: win.destroy())\n",
    "        Btn_quitgame.grid(row=4, column=2)\n",
    "        win.mainloop()\n"
   ]
  },
  {
   "cell_type": "code",
   "execution_count": 14,
   "id": "8d261223",
   "metadata": {},
   "outputs": [
    {
     "name": "stderr",
     "output_type": "stream",
     "text": [
      "Exception in Tkinter callback\n",
      "Traceback (most recent call last):\n",
      "  File \"c:\\python\\python36\\lib\\tkinter\\__init__.py\", line 1705, in __call__\n",
      "    return self.func(*args)\n",
      "  File \"<ipython-input-13-07cbfe088dfb>\", line 26, in <lambda>\n",
      "    Btn_3= Button(win,text=\"3.\"+questions[\"answer3\"][qz_number], font=myFont, width=52, height=2, fg=\"blue\", command=lambda: Ans_3())\n",
      "  File \"<ipython-input-12-868093992f21>\", line 18, in Ans_3\n",
      "    game_main()\n",
      "  File \"<ipython-input-13-07cbfe088dfb>\", line 42, in game_main\n",
      "    Lbl_title.grid(row=0, column=0, columnspan=4)\n",
      "  File \"c:\\python\\python36\\lib\\tkinter\\__init__.py\", line 2226, in grid_configure\n",
      "    + self._options(cnf, kw))\n",
      "_tkinter.TclError: can't invoke \"grid\" command: application has been destroyed\n"
     ]
    }
   ],
   "source": [
    "Lbl_title=Label(text=\"各國地理問答\",font=myFont,width=50, height=2)\n",
    "\n",
    "Lbl_title.grid(row=0, column=0, columnspan=4)\n",
    "qz_number=0\n",
    "Btn_startgame=Button(text=\"進入\",font=myFont, width=5, height=2, fg=\"black\", command=lambda: game_main())\n",
    "Btn_startgame.grid(row=4, column=0)\n",
    "Btn_quitgame=Button(text=\"離開\",font=myFont, width=5, height=2, fg=\"black\", command=lambda: win.destroy())\n",
    "Btn_quitgame.grid(row=4, column=2)\n",
    "win.mainloop()"
   ]
  },
  {
   "cell_type": "code",
   "execution_count": null,
   "id": "c70a5297",
   "metadata": {},
   "outputs": [],
   "source": []
  }
 ],
 "metadata": {
  "kernelspec": {
   "display_name": "Python 3",
   "language": "python",
   "name": "python3"
  },
  "language_info": {
   "codemirror_mode": {
    "name": "ipython",
    "version": 3
   },
   "file_extension": ".py",
   "mimetype": "text/x-python",
   "name": "python",
   "nbconvert_exporter": "python",
   "pygments_lexer": "ipython3",
   "version": "3.6.8"
  }
 },
 "nbformat": 4,
 "nbformat_minor": 5
}
