{
 "cells": [
  {
   "cell_type": "code",
   "execution_count": 6,
   "id": "33872137",
   "metadata": {},
   "outputs": [],
   "source": [
    "from tkinter import *\n",
    "import time\n",
    "import tkinter.font as fnt\n",
    "import numpy as np\n",
    "import pandas as pd\n",
    "import random\n",
    "from PIL import ImageTk, Image\n",
    "from functools import partial\n",
    "from glob import glob"
   ]
  },
  {
   "cell_type": "code",
   "execution_count": 27,
   "id": "f1601dd3",
   "metadata": {},
   "outputs": [
    {
     "name": "stdout",
     "output_type": "stream",
     "text": [
      "40K\t./.git/hooks\n",
      "2.0K\t./.git/info\n",
      "1.0K\t./.git/logs/refs/heads\n",
      "1.0K\t./.git/logs/refs/remotes/origin\n",
      "1.0K\t./.git/logs/refs/remotes\n",
      "2.0K\t./.git/logs/refs\n",
      "3.0K\t./.git/logs\n",
      "356K\t./.git/objects/07\n",
      "1.0K\t./.git/objects/14\n",
      "1.0K\t./.git/objects/1c\n",
      "12K\t./.git/objects/48\n",
      "136K\t./.git/objects/56\n",
      "164K\t./.git/objects/5a\n",
      "1.0K\t./.git/objects/79\n",
      "192K\t./.git/objects/9d\n",
      "640K\t./.git/objects/a2\n",
      "216K\t./.git/objects/a7\n",
      "1.0K\t./.git/objects/ae\n",
      "1.0K\t./.git/objects/dc\n",
      "1.0K\t./.git/objects/e0\n",
      "520K\t./.git/objects/f3\n",
      "1.0K\t./.git/objects/ff\n",
      "1.0K\t./.git/objects/info\n",
      "5.3M\t./.git/objects/pack\n",
      "7.5M\t./.git/objects\n",
      "1.0K\t./.git/refs/heads\n",
      "1.0K\t./.git/refs/remotes/origin\n",
      "1.0K\t./.git/refs/remotes\n",
      "0\t./.git/refs/tags\n",
      "2.0K\t./.git/refs\n",
      "7.6M\t./.git\n",
      "2.7M\t./1-metric-based\n",
      "2.0M\t./2-optimization-based\n",
      "4.0K\t./3-model-based/lstm\n",
      "16K\t./3-model-based/mann_snowkylin\n",
      "32K\t./3-model-based/ntm_aji\n",
      "852K\t./3-model-based\n",
      "80K\t./4-GAN/pic_AE\n",
      "652K\t./4-GAN/pic_anoGAN\n",
      "128K\t./4-GAN/pic_GANomaly\n",
      "1.7M\t./4-GAN\n",
      "15M\t.\n"
     ]
    }
   ],
   "source": [
    "!du -h"
   ]
  },
  {
   "cell_type": "code",
   "execution_count": 16,
   "id": "c48c1229",
   "metadata": {},
   "outputs": [],
   "source": [
    "win = Tk()\n",
    "win.geometry(\"1024x768\")\n",
    "win.resizable(width=True, height=True)\n",
    "win.title(\"各國地理問答-重製版1.0\")\n",
    "myFont = fnt.Font(family='新細明體', size=20, weight='bold')\n",
    "# questions=pd.read_csv(\"questions.xls\",encoding=\"ansi\")"
   ]
  },
  {
   "cell_type": "code",
   "execution_count": 17,
   "id": "6369842a",
   "metadata": {},
   "outputs": [],
   "source": [
    "a=np.zeros(3)"
   ]
  },
  {
   "cell_type": "code",
   "execution_count": 51,
   "id": "85f58a67",
   "metadata": {},
   "outputs": [
    {
     "data": {
      "text/html": [
       "<div>\n",
       "<style scoped>\n",
       "    .dataframe tbody tr th:only-of-type {\n",
       "        vertical-align: middle;\n",
       "    }\n",
       "\n",
       "    .dataframe tbody tr th {\n",
       "        vertical-align: top;\n",
       "    }\n",
       "\n",
       "    .dataframe thead th {\n",
       "        text-align: right;\n",
       "    }\n",
       "</style>\n",
       "<table border=\"1\" class=\"dataframe\">\n",
       "  <thead>\n",
       "    <tr style=\"text-align: right;\">\n",
       "      <th></th>\n",
       "      <th>洲</th>\n",
       "      <th>分區</th>\n",
       "      <th>國家</th>\n",
       "    </tr>\n",
       "  </thead>\n",
       "  <tbody>\n",
       "    <tr>\n",
       "      <th>0</th>\n",
       "      <td>南極洲.png</td>\n",
       "      <td>None</td>\n",
       "      <td>None</td>\n",
       "    </tr>\n",
       "    <tr>\n",
       "      <th>1</th>\n",
       "      <td>亞洲</td>\n",
       "      <td>亞洲.png</td>\n",
       "      <td>None</td>\n",
       "    </tr>\n",
       "    <tr>\n",
       "      <th>2</th>\n",
       "      <td>亞洲</td>\n",
       "      <td>中亞</td>\n",
       "      <td>中亞.png</td>\n",
       "    </tr>\n",
       "    <tr>\n",
       "      <th>3</th>\n",
       "      <td>亞洲</td>\n",
       "      <td>中亞</td>\n",
       "      <td>吉爾吉斯.png</td>\n",
       "    </tr>\n",
       "    <tr>\n",
       "      <th>4</th>\n",
       "      <td>亞洲</td>\n",
       "      <td>中亞</td>\n",
       "      <td>哈薩克.png</td>\n",
       "    </tr>\n",
       "    <tr>\n",
       "      <th>...</th>\n",
       "      <td>...</td>\n",
       "      <td>...</td>\n",
       "      <td>...</td>\n",
       "    </tr>\n",
       "    <tr>\n",
       "      <th>210</th>\n",
       "      <td>非洲</td>\n",
       "      <td>西非</td>\n",
       "      <td>象牙海岸.png</td>\n",
       "    </tr>\n",
       "    <tr>\n",
       "      <th>211</th>\n",
       "      <td>非洲</td>\n",
       "      <td>西非</td>\n",
       "      <td>貝南.png</td>\n",
       "    </tr>\n",
       "    <tr>\n",
       "      <th>212</th>\n",
       "      <td>非洲</td>\n",
       "      <td>西非</td>\n",
       "      <td>賴比瑞亞.png</td>\n",
       "    </tr>\n",
       "    <tr>\n",
       "      <th>213</th>\n",
       "      <td>非洲</td>\n",
       "      <td>西非</td>\n",
       "      <td>迦納.png</td>\n",
       "    </tr>\n",
       "    <tr>\n",
       "      <th>214</th>\n",
       "      <td>非洲</td>\n",
       "      <td>西非</td>\n",
       "      <td>馬利.png</td>\n",
       "    </tr>\n",
       "  </tbody>\n",
       "</table>\n",
       "<p>215 rows × 3 columns</p>\n",
       "</div>"
      ],
      "text/plain": [
       "           洲      分區        國家\n",
       "0    南極洲.png    None      None\n",
       "1         亞洲  亞洲.png      None\n",
       "2         亞洲      中亞    中亞.png\n",
       "3         亞洲      中亞  吉爾吉斯.png\n",
       "4         亞洲      中亞   哈薩克.png\n",
       "..       ...     ...       ...\n",
       "210       非洲      西非  象牙海岸.png\n",
       "211       非洲      西非    貝南.png\n",
       "212       非洲      西非  賴比瑞亞.png\n",
       "213       非洲      西非    迦納.png\n",
       "214       非洲      西非    馬利.png\n",
       "\n",
       "[215 rows x 3 columns]"
      ]
     },
     "execution_count": 51,
     "metadata": {},
     "output_type": "execute_result"
    }
   ],
   "source": [
    "pics=pd.DataFrame([ct.split(\"\\\\\")[1:] for ct in glob(\"世界地圖/**/*.png\",recursive=True)],columns=[\"洲\",\"分區\",\"國家\"])\n",
    "pics"
   ]
  },
  {
   "cell_type": "code",
   "execution_count": 52,
   "id": "28007d11",
   "metadata": {},
   "outputs": [],
   "source": [
    "pics.to_csv(\"pics.csv\",index=False, encoding='utf_8_sig')"
   ]
  },
  {
   "cell_type": "code",
   "execution_count": 4,
   "id": "db209e0e",
   "metadata": {},
   "outputs": [],
   "source": [
    "def f(x):\n",
    "    for i in range(x):\n",
    "        yield(i)"
   ]
  },
  {
   "cell_type": "code",
   "execution_count": 54,
   "id": "e0865e62",
   "metadata": {},
   "outputs": [
    {
     "ename": "AttributeError",
     "evalue": "'DataFrame' object has no attribute 'shuffle'",
     "output_type": "error",
     "traceback": [
      "\u001b[1;31m---------------------------------------------------------------------------\u001b[0m",
      "\u001b[1;31mAttributeError\u001b[0m                            Traceback (most recent call last)",
      "\u001b[1;32m<ipython-input-54-b7c63f079e7a>\u001b[0m in \u001b[0;36m<module>\u001b[1;34m\u001b[0m\n\u001b[0;32m      1\u001b[0m \u001b[1;31m#造出隨機序列\u001b[0m\u001b[1;33m\u001b[0m\u001b[1;33m\u001b[0m\u001b[1;33m\u001b[0m\u001b[0m\n\u001b[1;32m----> 2\u001b[1;33m \u001b[0mseries\u001b[0m\u001b[1;33m=\u001b[0m\u001b[0mpics\u001b[0m\u001b[1;33m.\u001b[0m\u001b[0mshuffle\u001b[0m\u001b[1;33m(\u001b[0m\u001b[1;33m)\u001b[0m\u001b[1;33m\u001b[0m\u001b[1;33m\u001b[0m\u001b[0m\n\u001b[0m",
      "\u001b[1;32mc:\\python\\python36\\lib\\site-packages\\pandas\\core\\generic.py\u001b[0m in \u001b[0;36m__getattr__\u001b[1;34m(self, name)\u001b[0m\n\u001b[0;32m   5139\u001b[0m             \u001b[1;32mif\u001b[0m \u001b[0mself\u001b[0m\u001b[1;33m.\u001b[0m\u001b[0m_info_axis\u001b[0m\u001b[1;33m.\u001b[0m\u001b[0m_can_hold_identifiers_and_holds_name\u001b[0m\u001b[1;33m(\u001b[0m\u001b[0mname\u001b[0m\u001b[1;33m)\u001b[0m\u001b[1;33m:\u001b[0m\u001b[1;33m\u001b[0m\u001b[1;33m\u001b[0m\u001b[0m\n\u001b[0;32m   5140\u001b[0m                 \u001b[1;32mreturn\u001b[0m \u001b[0mself\u001b[0m\u001b[1;33m[\u001b[0m\u001b[0mname\u001b[0m\u001b[1;33m]\u001b[0m\u001b[1;33m\u001b[0m\u001b[1;33m\u001b[0m\u001b[0m\n\u001b[1;32m-> 5141\u001b[1;33m             \u001b[1;32mreturn\u001b[0m \u001b[0mobject\u001b[0m\u001b[1;33m.\u001b[0m\u001b[0m__getattribute__\u001b[0m\u001b[1;33m(\u001b[0m\u001b[0mself\u001b[0m\u001b[1;33m,\u001b[0m \u001b[0mname\u001b[0m\u001b[1;33m)\u001b[0m\u001b[1;33m\u001b[0m\u001b[1;33m\u001b[0m\u001b[0m\n\u001b[0m\u001b[0;32m   5142\u001b[0m \u001b[1;33m\u001b[0m\u001b[0m\n\u001b[0;32m   5143\u001b[0m     \u001b[1;32mdef\u001b[0m \u001b[0m__setattr__\u001b[0m\u001b[1;33m(\u001b[0m\u001b[0mself\u001b[0m\u001b[1;33m,\u001b[0m \u001b[0mname\u001b[0m\u001b[1;33m:\u001b[0m \u001b[0mstr\u001b[0m\u001b[1;33m,\u001b[0m \u001b[0mvalue\u001b[0m\u001b[1;33m)\u001b[0m \u001b[1;33m->\u001b[0m \u001b[1;32mNone\u001b[0m\u001b[1;33m:\u001b[0m\u001b[1;33m\u001b[0m\u001b[1;33m\u001b[0m\u001b[0m\n",
      "\u001b[1;31mAttributeError\u001b[0m: 'DataFrame' object has no attribute 'shuffle'"
     ]
    }
   ],
   "source": [
    "#造出隨機序列\n",
    "series=pd.shupics.shuffle()\n"
   ]
  },
  {
   "cell_type": "code",
   "execution_count": null,
   "id": "99215b4d",
   "metadata": {},
   "outputs": [],
   "source": []
  },
  {
   "cell_type": "code",
   "execution_count": null,
   "id": "622c0f54",
   "metadata": {},
   "outputs": [],
   "source": [
    "#初始化總和計算\n",
    "totalCount=len(questions)\n",
    "correctCount=0"
   ]
  },
  {
   "cell_type": "code",
   "execution_count": 18,
   "id": "d0eff972",
   "metadata": {},
   "outputs": [],
   "source": [
    "win.mainloop()\n",
    "\n",
    "# questions=pd.read_csv(\"questions.xls\",encoding=\"ansi\")"
   ]
  },
  {
   "cell_type": "code",
   "execution_count": null,
   "id": "d366d66a",
   "metadata": {},
   "outputs": [],
   "source": []
  }
 ],
 "metadata": {
  "kernelspec": {
   "display_name": "Python 3",
   "language": "python",
   "name": "python3"
  },
  "language_info": {
   "codemirror_mode": {
    "name": "ipython",
    "version": 3
   },
   "file_extension": ".py",
   "mimetype": "text/x-python",
   "name": "python",
   "nbconvert_exporter": "python",
   "pygments_lexer": "ipython3",
   "version": "3.6.8"
  }
 },
 "nbformat": 4,
 "nbformat_minor": 5
}
